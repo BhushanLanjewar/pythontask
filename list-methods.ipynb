{
 "cells": [
  {
   "cell_type": "code",
   "execution_count": null,
   "id": "c6d3e463-43d5-4b7e-af1c-29c7f95402ff",
   "metadata": {},
   "outputs": [],
   "source": [
    "# append \n",
    "\n",
    "fruits = ['banana','mango','orange']\n",
    "\n",
    "print(fruits) \n",
    "\n",
    "fruits.append('apple')\n",
    "\n",
    "print(fruits)"
   ]
  },
  {
   "cell_type": "code",
   "execution_count": null,
   "id": "f6eda493-b85a-4a1b-a135-133d3754634e",
   "metadata": {},
   "outputs": [],
   "source": []
  },
  {
   "cell_type": "code",
   "execution_count": 12,
   "id": "81c5153f-0d4e-4acc-b62c-7368c2467ddf",
   "metadata": {},
   "outputs": [
    {
     "name": "stdout",
     "output_type": "stream",
     "text": [
      "[]\n"
     ]
    }
   ],
   "source": [
    "# clear \n",
    "\n",
    "name = ['shreyas','bhushan','tonish']\n",
    "\n",
    "name.clear()\n",
    "\n",
    "print(name)"
   ]
  },
  {
   "cell_type": "code",
   "execution_count": null,
   "id": "af7fc83e-7b3b-452e-b0ac-9fdb097bc08b",
   "metadata": {},
   "outputs": [],
   "source": []
  },
  {
   "cell_type": "code",
   "execution_count": 16,
   "id": "68fc2c1e-26f3-4175-9dd1-aa6eb8b5bedf",
   "metadata": {},
   "outputs": [
    {
     "name": "stdout",
     "output_type": "stream",
     "text": [
      "['bhandara', 'nagpur', 'pune']\n"
     ]
    }
   ],
   "source": [
    "# copy\n",
    "\n",
    "city = ['bhandara','nagpur','pune']\n",
    "\n",
    "city1 = city.copy()\n",
    "\n",
    "print(city1)"
   ]
  },
  {
   "cell_type": "code",
   "execution_count": null,
   "id": "889656e0-1632-49ec-89a1-a7014740f3eb",
   "metadata": {},
   "outputs": [],
   "source": []
  },
  {
   "cell_type": "code",
   "execution_count": 25,
   "id": "c53bd194-0d41-4db6-8481-1442801be49c",
   "metadata": {},
   "outputs": [
    {
     "name": "stdout",
     "output_type": "stream",
     "text": [
      "mi = 3\n"
     ]
    }
   ],
   "source": [
    "# count \n",
    "\n",
    "mobile = ['mi','oneplus','mi','iphone','realme','mi']\n",
    "\n",
    "val = mobile.count('mi')\n",
    "\n",
    "print(f'mi = {val}')"
   ]
  },
  {
   "cell_type": "code",
   "execution_count": null,
   "id": "d8f963e7-a330-4a2d-8dd5-326a233cd252",
   "metadata": {},
   "outputs": [],
   "source": []
  },
  {
   "cell_type": "code",
   "execution_count": 26,
   "id": "0f62d772-888a-4a33-a565-1fc30d796f10",
   "metadata": {},
   "outputs": [
    {
     "name": "stdout",
     "output_type": "stream",
     "text": [
      "['BMW', 'THAR', 'AUDi', 'LAMBORGHINI', 'HONDA', 'TATA MOTORS', 'MAHINDRA', 'HYUNDAI']\n"
     ]
    }
   ],
   "source": [
    "# extend \n",
    "\n",
    "cars = ['BMW','THAR','AUDi','LAMBORGHINI']\n",
    "\n",
    "company = ['HONDA','TATA MOTORS','MAHINDRA','HYUNDAI']\n",
    "\n",
    "cars.extend(company)\n",
    "\n",
    "print(cars)\n"
   ]
  },
  {
   "cell_type": "code",
   "execution_count": null,
   "id": "7d7bedcc-c109-4337-a559-90b31e2123a3",
   "metadata": {},
   "outputs": [],
   "source": []
  },
  {
   "cell_type": "code",
   "execution_count": 35,
   "id": "b082cd52-eb2c-486a-b07c-70e2f8d6cd81",
   "metadata": {},
   "outputs": [
    {
     "name": "stdout",
     "output_type": "stream",
     "text": [
      " index no of D = 3\n"
     ]
    }
   ],
   "source": [
    "# index \n",
    "\n",
    "number = ['A','B','C','D','E','F']\n",
    "\n",
    "no = number.index('D')\n",
    "\n",
    "print(f' index no of D = {no}')"
   ]
  },
  {
   "cell_type": "code",
   "execution_count": null,
   "id": "be38c255-7416-4c4a-9361-c9b0c018a721",
   "metadata": {},
   "outputs": [],
   "source": []
  },
  {
   "cell_type": "code",
   "execution_count": 36,
   "id": "800021f7-3d1f-4ef1-a217-7e6a7642f766",
   "metadata": {},
   "outputs": [
    {
     "name": "stdout",
     "output_type": "stream",
     "text": [
      "['DA1', 'DA2', 'DA3', 'DA4', 'DA5', 'DA6']\n"
     ]
    }
   ],
   "source": [
    "# insert \n",
    "\n",
    "batch = ['DA1','DA2','DA4','DA5','DA6']\n",
    "\n",
    "batch.insert(2,'DA3')\n",
    "\n",
    "print(batch)"
   ]
  },
  {
   "cell_type": "code",
   "execution_count": null,
   "id": "5000af2d-e6f1-430b-909a-b9ceb6ff12e8",
   "metadata": {},
   "outputs": [],
   "source": []
  },
  {
   "cell_type": "code",
   "execution_count": 37,
   "id": "e8589b14-1bab-4e0d-a033-6006f276cb09",
   "metadata": {},
   "outputs": [
    {
     "name": "stdout",
     "output_type": "stream",
     "text": [
      "[1, 2, 3, 4, 5, 7, 8, 9, 10]\n"
     ]
    }
   ],
   "source": [
    "# pop \n",
    "\n",
    "number = [1,2,3,4,5,6,7,8,9,10]\n",
    "\n",
    "number.pop(5)\n",
    "\n",
    "print(number)"
   ]
  },
  {
   "cell_type": "code",
   "execution_count": null,
   "id": "47c6c9a5-4ff8-4e01-b74b-aacb5682bc9a",
   "metadata": {},
   "outputs": [],
   "source": []
  },
  {
   "cell_type": "code",
   "execution_count": 38,
   "id": "4aab5343-2719-4e30-850f-7239f291fb9f",
   "metadata": {},
   "outputs": [
    {
     "name": "stdout",
     "output_type": "stream",
     "text": [
      "['india', 'usa', 'newzealand']\n"
     ]
    }
   ],
   "source": [
    "# remove \n",
    "\n",
    "country = ['india','usa','newzealand','australia']\n",
    "\n",
    "country.remove('australia')\n",
    "\n",
    "print(country)\n"
   ]
  },
  {
   "cell_type": "code",
   "execution_count": null,
   "id": "a6922bb7-e76a-4c47-b652-e109c8991bdf",
   "metadata": {},
   "outputs": [],
   "source": []
  },
  {
   "cell_type": "code",
   "execution_count": 39,
   "id": "091a23e3-7ebb-4451-a18f-c74799c1de06",
   "metadata": {},
   "outputs": [
    {
     "name": "stdout",
     "output_type": "stream",
     "text": [
      "[1, 2, 3, 4, 5, 6, 7, 8, 9, 10]\n"
     ]
    }
   ],
   "source": [
    "# reverse \n",
    "\n",
    "list = [10,9,8,7,6,5,4,3,2,1]\n",
    "\n",
    "list.reverse()\n",
    "\n",
    "print(list)"
   ]
  },
  {
   "cell_type": "code",
   "execution_count": null,
   "id": "4704a07d-f871-4622-9bfb-5ce15befe8a8",
   "metadata": {},
   "outputs": [],
   "source": []
  },
  {
   "cell_type": "code",
   "execution_count": 40,
   "id": "844fb0a8-81f7-4d7e-a995-cec42a24d441",
   "metadata": {},
   "outputs": [
    {
     "name": "stdout",
     "output_type": "stream",
     "text": [
      "[9, 12, 23, 23, 24, 45, 45, 54, 77, 78, 883]\n"
     ]
    }
   ],
   "source": [
    "# sort \n",
    "\n",
    "values = [23,45,12,883,54,24,78,9,23,45,77]\n",
    "\n",
    "values.sort()\n",
    "\n",
    "print(values)"
   ]
  }
 ],
 "metadata": {
  "kernelspec": {
   "display_name": "Python 3 (ipykernel)",
   "language": "python",
   "name": "python3"
  },
  "language_info": {
   "codemirror_mode": {
    "name": "ipython",
    "version": 3
   },
   "file_extension": ".py",
   "mimetype": "text/x-python",
   "name": "python",
   "nbconvert_exporter": "python",
   "pygments_lexer": "ipython3",
   "version": "3.11.7"
  }
 },
 "nbformat": 4,
 "nbformat_minor": 5
}
